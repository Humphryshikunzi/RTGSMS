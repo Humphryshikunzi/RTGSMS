{
 "cells": [
  {
   "cell_type": "code",
   "execution_count": 1,
   "id": "e5ea3dbb",
   "metadata": {},
   "outputs": [],
   "source": [
    "places = {\n",
    "    'Budalangi': {\n",
    "            'lat':0.1225,\n",
    "            'long':34.05278,\n",
    "            'is_prone':True, \n",
    "            'ever_affected':True\n",
    "        },\n",
    "    \"Murang'a\": {\n",
    "            'lat':0.7167 ,\n",
    "            'long':37.1500 ,\n",
    "            'is_prone': False,\n",
    "            'ever_affected':True\n",
    "        }, \n",
    "    'Mt Elgon': {\n",
    "            'lat':1,\n",
    "            'long':2,\n",
    "            'is_prone': False,\n",
    "            'ever_affected':False\n",
    "        },\n",
    "\n",
    "    'Nyeri': {\n",
    "            'lat':0.42013,\n",
    "            'long':36.94759,\n",
    "            'is_prone': False,\n",
    "            'ever_affected':True\n",
    "        },\n",
    "    'Kiambu' : {\n",
    "            'lat':-1.16667,\n",
    "            'long':36.83333,\n",
    "            'is_prone':True,\n",
    "            'ever_affected': False\n",
    "        }\n",
    "    }\n"
   ]
  },
  {
   "cell_type": "code",
   "execution_count": 2,
   "id": "951391a0",
   "metadata": {},
   "outputs": [
    {
     "name": "stdout",
     "output_type": "stream",
     "text": [
      "<class 'dict'>\n"
     ]
    }
   ],
   "source": [
    "print(type(places))"
   ]
  },
  {
   "cell_type": "code",
   "execution_count": 4,
   "id": "4fdf7e4e",
   "metadata": {},
   "outputs": [
    {
     "ename": "ValueError",
     "evalue": "too many values to unpack (expected 2)",
     "output_type": "error",
     "traceback": [
      "\u001b[1;31m---------------------------------------------------------------------------\u001b[0m",
      "\u001b[1;31mValueError\u001b[0m                                Traceback (most recent call last)",
      "\u001b[1;32m~\\AppData\\Local\\Temp/ipykernel_16180/1300955984.py\u001b[0m in \u001b[0;36m<module>\u001b[1;34m\u001b[0m\n\u001b[1;32m----> 1\u001b[1;33m \u001b[1;32mfor\u001b[0m \u001b[0mkey\u001b[0m\u001b[1;33m,\u001b[0m \u001b[0mvalue\u001b[0m \u001b[1;32min\u001b[0m \u001b[0mplaces\u001b[0m\u001b[1;33m.\u001b[0m\u001b[0mvalues\u001b[0m\u001b[1;33m(\u001b[0m\u001b[1;33m)\u001b[0m\u001b[1;33m:\u001b[0m\u001b[1;33m\u001b[0m\u001b[1;33m\u001b[0m\u001b[0m\n\u001b[0m\u001b[0;32m      2\u001b[0m     \u001b[0mprint\u001b[0m\u001b[1;33m(\u001b[0m\u001b[0mkey\u001b[0m\u001b[1;33m)\u001b[0m\u001b[1;33m\u001b[0m\u001b[1;33m\u001b[0m\u001b[0m\n",
      "\u001b[1;31mValueError\u001b[0m: too many values to unpack (expected 2)"
     ]
    }
   ],
   "source": [
    "for key, value in places.values():\n",
    "    print(key)"
   ]
  },
  {
   "cell_type": "code",
   "execution_count": null,
   "id": "68cb4965",
   "metadata": {},
   "outputs": [],
   "source": []
  }
 ],
 "metadata": {
  "kernelspec": {
   "display_name": "Python 3 (ipykernel)",
   "language": "python",
   "name": "python3"
  },
  "language_info": {
   "codemirror_mode": {
    "name": "ipython",
    "version": 3
   },
   "file_extension": ".py",
   "mimetype": "text/x-python",
   "name": "python",
   "nbconvert_exporter": "python",
   "pygments_lexer": "ipython3",
   "version": "3.8.3"
  }
 },
 "nbformat": 4,
 "nbformat_minor": 5
}
